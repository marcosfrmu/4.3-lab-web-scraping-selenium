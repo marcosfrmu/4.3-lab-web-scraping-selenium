{
 "cells": [
  {
   "cell_type": "markdown",
   "metadata": {},
   "source": [
    "# Web Scraping Lab\n",
    "\n",
    "You will find in this notebook some scrapy exercises to practise your scraping skills.\n",
    "\n",
    "**Tips:**\n",
    "\n",
    "- Check the response status code for each request to ensure you have obtained the intended contennt.\n",
    "- Print the response text in each request to understand the kind of info you are getting and its format.\n",
    "- Check for patterns in the response text to extract the data/info requested in each question.\n",
    "- Visit each url and take a look at its source through Chrome DevTools. You'll need to identify the html tags, special class names etc. used for the html content you are expected to extract."
   ]
  },
  {
   "cell_type": "markdown",
   "metadata": {},
   "source": [
    "- [Selenium Doc](https://www.selenium.dev/documentation/)\n",
    "- [Requests library](http://docs.python-requests.org/en/master/#the-user-guide) documentation \n",
    "- [Urllib](https://docs.python.org/3/library/urllib.html#module-urllib)\n",
    "- [re lib](https://docs.python.org/3/library/re.html)\n",
    "- [lxml lib](https://lxml.de/)\n",
    "- [Scrapy](https://scrapy.org/)\n",
    "- [List of HTTP status codes](https://en.wikipedia.org/wiki/List_of_HTTP_status_codes)\n",
    "- [HTML basics](http://www.simplehtmlguide.com/cheatsheet.php)\n",
    "- [CSS basics](https://www.cssbasics.com/#page_start)"
   ]
  },
  {
   "cell_type": "markdown",
   "metadata": {},
   "source": [
    "#### Below are the libraries and modules you may need. `Selenium` and `pandas` are imported for you."
   ]
  },
  {
   "cell_type": "code",
   "execution_count": 68,
   "metadata": {},
   "outputs": [],
   "source": [
    "from selenium import webdriver\n",
    "from selenium.webdriver.common.by import By\n",
    "\n",
    "import pandas as pd\n",
    "from selenium.webdriver.chrome.options import Options\n",
    "from webdriver_manager.chrome import ChromeDriverManager\n"
   ]
  },
  {
   "cell_type": "markdown",
   "metadata": {},
   "source": [
    "#### Enable the options you may need. In the next cell you have an example of them but you can choose to use them or not."
   ]
  },
  {
   "cell_type": "code",
   "execution_count": 77,
   "metadata": {},
   "outputs": [],
   "source": [
    "#driver configuration\n",
    "opciones=Options()\n",
    "\n",
    "opciones.add_experimental_option('excludeSwitches', ['enable-automation'])\n",
    "opciones.add_experimental_option('useAutomationExtension', False)\n",
    "opciones.headless=False    # si True, no aperece la ventana (headless=no visible)\n",
    "opciones.add_argument('--start-maximized')         # comienza maximizado\n",
    "#opciones.add_argument('user-data-dir=selenium')    # mantiene las cookies\n",
    "#opciones.add_extension('driver_folder/adblock.crx')       # adblocker\n",
    "#opciones.add_argument('--incognito')"
   ]
  },
  {
   "cell_type": "code",
   "execution_count": 116,
   "metadata": {},
   "outputs": [],
   "source": [
    "url = 'https://github.com/trending/developers'\n",
    "\n",
    "\n",
    "PATH = ChromeDriverManager().install()      \n",
    "browser = webdriver.Chrome(PATH)\n",
    "browser.get(url)"
   ]
  },
  {
   "cell_type": "markdown",
   "metadata": {},
   "source": [
    "#### Download, parse, and print the content from the Trending Developers page from GitHub:"
   ]
  },
  {
   "cell_type": "code",
   "execution_count": 112,
   "metadata": {},
   "outputs": [],
   "source": [
    "\n",
    "\n"
   ]
  },
  {
   "cell_type": "code",
   "execution_count": 117,
   "metadata": {},
   "outputs": [],
   "source": [
    "git = browser.find_elements(By.CLASS_NAME,'h3.lh-condensed')"
   ]
  },
  {
   "cell_type": "code",
   "execution_count": 118,
   "metadata": {},
   "outputs": [
    {
     "data": {
      "text/plain": [
       "['Nikita Sobolev',\n",
       " 'Emil Ernerfeldt',\n",
       " 'Jonny Borges',\n",
       " 'Stephen Celis',\n",
       " 'monkeyWie',\n",
       " 'Azure SDK Bot',\n",
       " 'Martin Bonnin',\n",
       " 'Wangchong Zhou',\n",
       " 'Ammar Ahmed',\n",
       " 'Matt Bierner',\n",
       " 'Alessandro Ros',\n",
       " 'Mike Perham',\n",
       " 'DavidKorczynski',\n",
       " 'Abhijeet Prasad',\n",
       " 'Mislav Marohnić',\n",
       " 'Leonard Hecker',\n",
       " 'Pedro Cuenca',\n",
       " 'Marcus Olsson',\n",
       " 'Alex Eagle',\n",
       " 'Nolan Lawson',\n",
       " 'Luke Latham',\n",
       " 'Joshua Levy',\n",
       " 'Bas Nijholt',\n",
       " 'Ice3man',\n",
       " 'kunfei']"
      ]
     },
     "execution_count": 118,
     "metadata": {},
     "output_type": "execute_result"
    }
   ],
   "source": [
    "dicgit = []\n",
    "for i in git:\n",
    "    dicgit.append(i.text)\n",
    "\n",
    "    # alternative way:\n",
    "# dicgit = [i.text for i in git]\n",
    "\n",
    "dicgit"
   ]
  },
  {
   "cell_type": "code",
   "execution_count": 119,
   "metadata": {},
   "outputs": [
    {
     "data": {
      "text/plain": [
       "['sobolevn',\n",
       " 'emilk',\n",
       " 'jonataslaw',\n",
       " 'stephencelis',\n",
       " 'azure-sdk',\n",
       " 'martinbonnin',\n",
       " 'fffonion',\n",
       " 'ammarahm-ed',\n",
       " 'mjbvz',\n",
       " 'aler9',\n",
       " 'mperham',\n",
       " 'AbhiPrasad',\n",
       " 'mislav',\n",
       " 'lhecker',\n",
       " 'pcuenca',\n",
       " 'marcusolsson',\n",
       " 'alexeagle',\n",
       " 'nolanlawson',\n",
       " 'guardrex',\n",
       " 'jlevy',\n",
       " 'basnijholt',\n",
       " 'Ice3man543',\n",
       " 'gedoor']"
      ]
     },
     "execution_count": 119,
     "metadata": {},
     "output_type": "execute_result"
    }
   ],
   "source": [
    "git2 = driver.find_elements(By.CLASS_NAME, \"f4.text-normal.mb-1\")\n",
    "\n",
    "dicgit2 = []\n",
    "for i in git2:\n",
    "    dicgit2.append(i.text)\n",
    "\n",
    "\n",
    "dicgit2\n"
   ]
  },
  {
   "cell_type": "code",
   "execution_count": 120,
   "metadata": {},
   "outputs": [
    {
     "data": {
      "text/plain": [
       "[('Nikita Sobolev', 'sobolevn'),\n",
       " ('Emil Ernerfeldt', 'emilk'),\n",
       " ('Jonny Borges', 'jonataslaw'),\n",
       " ('Stephen Celis', 'stephencelis'),\n",
       " ('monkeyWie', 'azure-sdk'),\n",
       " ('Azure SDK Bot', 'martinbonnin'),\n",
       " ('Martin Bonnin', 'fffonion'),\n",
       " ('Wangchong Zhou', 'ammarahm-ed'),\n",
       " ('Ammar Ahmed', 'mjbvz'),\n",
       " ('Matt Bierner', 'aler9'),\n",
       " ('Alessandro Ros', 'mperham'),\n",
       " ('Mike Perham', 'AbhiPrasad'),\n",
       " ('DavidKorczynski', 'mislav'),\n",
       " ('Abhijeet Prasad', 'lhecker'),\n",
       " ('Mislav Marohnić', 'pcuenca'),\n",
       " ('Leonard Hecker', 'marcusolsson'),\n",
       " ('Pedro Cuenca', 'alexeagle'),\n",
       " ('Marcus Olsson', 'nolanlawson'),\n",
       " ('Alex Eagle', 'guardrex'),\n",
       " ('Nolan Lawson', 'jlevy'),\n",
       " ('Luke Latham', 'basnijholt'),\n",
       " ('Joshua Levy', 'Ice3man543'),\n",
       " ('Bas Nijholt', 'gedoor')]"
      ]
     },
     "execution_count": 120,
     "metadata": {},
     "output_type": "execute_result"
    }
   ],
   "source": [
    "juntar = zip(dicgit, dicgit2)\n",
    "\n",
    "juntar = [i for i in juntar]\n",
    "\n",
    "juntar"
   ]
  },
  {
   "cell_type": "markdown",
   "metadata": {},
   "source": [
    "#### Display the names of the trending developers retrieved in the previous step.\n",
    "\n",
    "Your output should be a Python list of developer names. Each name should not contain any html tag.\n",
    "\n",
    "**Instructions:**\n",
    "\n",
    "1. Find out the html tag and class names used for the developer names.\n",
    "\n",
    "1. Use string manipulation techniques to replace whitespaces and linebreaks (i.e. `\\n`) in the *text* of each html element. Use a list to store the clean names.\n",
    "\n",
    "1. Print the list of names.\n",
    "\n",
    "Your output should look like below:\n",
    "\n",
    "```\n",
    "['trimstray (@trimstray)',\n",
    " 'joewalnes (JoeWalnes)',\n",
    " 'charlax (Charles-AxelDein)',\n",
    " 'ForrestKnight (ForrestKnight)',\n",
    " 'revery-ui (revery-ui)',\n",
    " 'alibaba (Alibaba)',\n",
    " 'Microsoft (Microsoft)',\n",
    " 'github (GitHub)',\n",
    " 'facebook (Facebook)',\n",
    " 'boazsegev (Bo)',\n",
    " 'google (Google)',\n",
    " 'cloudfetch',\n",
    " 'sindresorhus (SindreSorhus)',\n",
    " 'tensorflow',\n",
    " 'apache (TheApacheSoftwareFoundation)',\n",
    " 'DevonCrawford (DevonCrawford)',\n",
    " 'ARMmbed (ArmMbed)',\n",
    " 'vuejs (vuejs)',\n",
    " 'fastai (fast.ai)',\n",
    " 'QiShaoXuan (Qi)',\n",
    " 'joelparkerhenderson (JoelParkerHenderson)',\n",
    " 'torvalds (LinusTorvalds)',\n",
    " 'CyC2018',\n",
    " 'komeiji-satori (神楽坂覚々)',\n",
    " 'script-8']\n",
    " ```"
   ]
  },
  {
   "cell_type": "code",
   "execution_count": null,
   "metadata": {},
   "outputs": [],
   "source": []
  },
  {
   "cell_type": "markdown",
   "metadata": {},
   "source": [
    "#### Display the trending Python repositories in GitHub\n",
    "\n",
    "The steps to solve this problem is similar to the previous one except that you need to find out the repository names instead of developer names."
   ]
  },
  {
   "cell_type": "code",
   "execution_count": 121,
   "metadata": {},
   "outputs": [],
   "source": [
    "url = 'https://github.com/trending/python?since=daily'\n",
    "\n",
    "PATH = ChromeDriverManager().install()      \n",
    "browser = webdriver.Chrome(PATH)\n",
    "browser.get(url)"
   ]
  },
  {
   "cell_type": "code",
   "execution_count": 122,
   "metadata": {},
   "outputs": [],
   "source": [
    "git_rep = browser.find_elements(By.CLASS_NAME,'h3.lh-condensed')"
   ]
  },
  {
   "cell_type": "code",
   "execution_count": 123,
   "metadata": {},
   "outputs": [
    {
     "data": {
      "text/plain": [
       "['public-apis / public-apis',\n",
       " 'bregman-arie / devops-exercises',\n",
       " 'facebookresearch / fairseq',\n",
       " 'cloneofsimo / paint-with-words-sd',\n",
       " 'Azure / azure-cli',\n",
       " 'caronc / apprise',\n",
       " 'joweich / chat-miner',\n",
       " 'PaddlePaddle / PaddleTS',\n",
       " 'mli / autocut',\n",
       " 'sczhou / CodeFormer',\n",
       " 'unifyai / ivy',\n",
       " 'augmentedstartups / AS-One',\n",
       " 'loTus04 / W4SP-Stealer',\n",
       " 'rwightman / pytorch-image-models',\n",
       " 'iterativv / NostalgiaForInfinity',\n",
       " 'getredash / redash',\n",
       " 'ethereum / consensus-specs',\n",
       " 'd8ahazard / sd_dreambooth_extension',\n",
       " 'microsoft / recommenders',\n",
       " 'zulip / zulip',\n",
       " 'ultralytics / yolov5',\n",
       " 'openai / improved-diffusion',\n",
       " 'facebookresearch / ParlAI',\n",
       " 'aliyun / surftrace',\n",
       " 'NVlabs / stylegan2-ada-pytorch']"
      ]
     },
     "execution_count": 123,
     "metadata": {},
     "output_type": "execute_result"
    }
   ],
   "source": [
    "repgit = [i.text for i in git_rep]\n",
    "\n",
    "repgit"
   ]
  },
  {
   "cell_type": "markdown",
   "metadata": {},
   "source": [
    "#### Display all the image links from Walt Disney wikipedia page"
   ]
  },
  {
   "cell_type": "code",
   "execution_count": 124,
   "metadata": {},
   "outputs": [],
   "source": [
    "# This is the url you will scrape in this exercise\n",
    "url = 'https://en.wikipedia.org/wiki/Walt_Disney'\n",
    "\n",
    "PATH = ChromeDriverManager().install()      \n",
    "browser = webdriver.Chrome(PATH)\n",
    "browser.get(url)"
   ]
  },
  {
   "cell_type": "code",
   "execution_count": 146,
   "metadata": {},
   "outputs": [
    {
     "data": {
      "text/plain": [
       "['https://upload.wikimedia.org/wikipedia/en/thumb/e/e7/Cscr-featured.svg/20px-Cscr-featured.svg.png',\n",
       " 'https://upload.wikimedia.org/wikipedia/en/thumb/8/8c/Extended-protection-shackle.svg/20px-Extended-protection-shackle.svg.png',\n",
       " 'https://upload.wikimedia.org/wikipedia/commons/thumb/d/df/Walt_Disney_1946.JPG/220px-Walt_Disney_1946.JPG',\n",
       " 'https://upload.wikimedia.org/wikipedia/commons/thumb/8/87/Walt_Disney_1942_signature.svg/150px-Walt_Disney_1942_signature.svg.png',\n",
       " 'https://upload.wikimedia.org/wikipedia/commons/thumb/3/3a/Walt_Disney_Birthplace_Exterior_Hermosa_Chicago_Illinois.jpg/220px-Walt_Disney_Birthplace_Exterior_Hermosa_Chicago_Illinois.jpg',\n",
       " 'https://upload.wikimedia.org/wikipedia/commons/thumb/c/c4/Walt_Disney_envelope_ca._1921.jpg/220px-Walt_Disney_envelope_ca._1921.jpg',\n",
       " 'https://upload.wikimedia.org/wikipedia/commons/thumb/0/0d/Trolley_Troubles_poster.jpg/170px-Trolley_Troubles_poster.jpg',\n",
       " 'https://upload.wikimedia.org/wikipedia/en/thumb/4/4e/Steamboat-willie.jpg/170px-Steamboat-willie.jpg',\n",
       " 'https://upload.wikimedia.org/wikipedia/commons/thumb/5/57/Walt_Disney_1935.jpg/170px-Walt_Disney_1935.jpg',\n",
       " 'https://upload.wikimedia.org/wikipedia/commons/thumb/c/cd/Walt_Disney_Snow_white_1937_trailer_screenshot_%2813%29.jpg/220px-Walt_Disney_Snow_white_1937_trailer_screenshot_%2813%29.jpg',\n",
       " 'https://upload.wikimedia.org/wikipedia/commons/thumb/1/15/Disney_drawing_goofy.jpg/170px-Disney_drawing_goofy.jpg',\n",
       " 'https://upload.wikimedia.org/wikipedia/commons/thumb/8/8c/WaltDisneyplansDisneylandDec1954.jpg/220px-WaltDisneyplansDisneylandDec1954.jpg',\n",
       " 'https://upload.wikimedia.org/wikipedia/commons/thumb/f/ff/Walt_disney_portrait_right.jpg/170px-Walt_disney_portrait_right.jpg',\n",
       " 'https://upload.wikimedia.org/wikipedia/commons/thumb/1/1a/Walt_Disney_Grave.JPG/170px-Walt_Disney_Grave.JPG',\n",
       " 'https://upload.wikimedia.org/wikipedia/commons/thumb/2/2d/Roy_O._Disney_with_Company_at_Press_Conference.jpg/170px-Roy_O._Disney_with_Company_at_Press_Conference.jpg',\n",
       " 'https://upload.wikimedia.org/wikipedia/commons/thumb/1/13/DisneySchiphol1951.jpg/220px-DisneySchiphol1951.jpg',\n",
       " 'https://upload.wikimedia.org/wikipedia/commons/thumb/6/6c/Disney1968.jpg/170px-Disney1968.jpg',\n",
       " 'https://upload.wikimedia.org/wikipedia/commons/thumb/b/b0/Disney_Oscar_1953_%28cropped%29.jpg/170px-Disney_Oscar_1953_%28cropped%29.jpg',\n",
       " 'https://upload.wikimedia.org/wikipedia/en/thumb/4/4a/Commons-logo.svg/30px-Commons-logo.svg.png',\n",
       " 'https://upload.wikimedia.org/wikipedia/commons/thumb/4/4c/Wikisource-logo.svg/38px-Wikisource-logo.svg.png',\n",
       " 'https://upload.wikimedia.org/wikipedia/commons/thumb/f/fa/Wikiquote-logo.svg/34px-Wikiquote-logo.svg.png',\n",
       " 'https://upload.wikimedia.org/wikipedia/en/thumb/8/8a/OOjs_UI_icon_edit-ltr-progressive.svg/10px-OOjs_UI_icon_edit-ltr-progressive.svg.png',\n",
       " 'https://upload.wikimedia.org/wikipedia/en/thumb/8/8a/OOjs_UI_icon_edit-ltr-progressive.svg/10px-OOjs_UI_icon_edit-ltr-progressive.svg.png',\n",
       " 'https://upload.wikimedia.org/wikipedia/commons/thumb/e/e3/Disneyland_Resort_logo.svg/135px-Disneyland_Resort_logo.svg.png',\n",
       " 'https://upload.wikimedia.org/wikipedia/commons/thumb/d/da/Animation_disc.svg/20px-Animation_disc.svg.png',\n",
       " 'https://upload.wikimedia.org/wikipedia/en/thumb/6/69/P_vip.svg/19px-P_vip.svg.png',\n",
       " 'https://upload.wikimedia.org/wikipedia/commons/thumb/1/1a/Magic_Kingdom_castle.jpg/15px-Magic_Kingdom_castle.jpg',\n",
       " 'https://upload.wikimedia.org/wikipedia/en/thumb/e/e7/Video-x-generic.svg/19px-Video-x-generic.svg.png',\n",
       " 'https://upload.wikimedia.org/wikipedia/commons/thumb/a/a3/Flag_of_Los_Angeles_County%2C_California.svg/21px-Flag_of_Los_Angeles_County%2C_California.svg.png',\n",
       " 'https://upload.wikimedia.org/wikipedia/commons/thumb/8/8c/Blank_television_set.svg/21px-Blank_television_set.svg.png',\n",
       " 'https://upload.wikimedia.org/wikipedia/en/thumb/a/a4/Flag_of_the_United_States.svg/21px-Flag_of_the_United_States.svg.png',\n",
       " 'https://upload.wikimedia.org/wikipedia/en/thumb/4/4a/Commons-logo.svg/14px-Commons-logo.svg.png',\n",
       " 'https://upload.wikimedia.org/wikipedia/commons/thumb/f/fa/Wikiquote-logo.svg/16px-Wikiquote-logo.svg.png',\n",
       " 'https://upload.wikimedia.org/wikipedia/commons/thumb/4/4c/Wikisource-logo.svg/18px-Wikisource-logo.svg.png',\n",
       " 'https://upload.wikimedia.org/wikipedia/commons/thumb/f/ff/Wikidata-logo.svg/21px-Wikidata-logo.svg.png',\n",
       " 'https://upload.wikimedia.org/wikipedia/en/thumb/8/8a/OOjs_UI_icon_edit-ltr-progressive.svg/10px-OOjs_UI_icon_edit-ltr-progressive.svg.png',\n",
       " 'https://en.wikipedia.org/static/images/footer/wikimedia-button.png',\n",
       " 'https://en.wikipedia.org/static/images/footer/poweredby_mediawiki_88x31.png']"
      ]
     },
     "execution_count": 146,
     "metadata": {},
     "output_type": "execute_result"
    }
   ],
   "source": [
    "waltpic = browser.find_elements(By.TAG_NAME,'img')\n",
    "\n",
    "walt = [i.get_attribute('src') for i in waltpic]\n",
    "\n",
    "walt"
   ]
  },
  {
   "cell_type": "markdown",
   "metadata": {},
   "source": [
    "#### Retrieve an arbitary Wikipedia page of \"Python\" and create a list of links on that page"
   ]
  },
  {
   "cell_type": "code",
   "execution_count": 214,
   "metadata": {},
   "outputs": [],
   "source": [
    "# This is the url you will scrape in this exercise\n",
    "wikirandom = 'https://en.wikipedia.org/wiki/Python' \n",
    "\n",
    "PATH = ChromeDriverManager().install()      \n",
    "browser = webdriver.Chrome(PATH)\n",
    "browser.get(wikirandom)"
   ]
  },
  {
   "cell_type": "code",
   "execution_count": 215,
   "metadata": {
    "scrolled": true
   },
   "outputs": [
    {
     "data": {
      "text/plain": [
       "[None,\n",
       " 'https://en.wikipedia.org/wiki/Python#mw-head',\n",
       " 'https://en.wikipedia.org/wiki/Python#searchInput',\n",
       " 'https://en.wiktionary.org/wiki/Python',\n",
       " 'https://en.wiktionary.org/wiki/python',\n",
       " 'https://en.wikipedia.org/wiki/Python#Snakes',\n",
       " 'https://en.wikipedia.org/wiki/Python#Computing',\n",
       " 'https://en.wikipedia.org/wiki/Python#People',\n",
       " 'https://en.wikipedia.org/wiki/Python#Roller_coasters',\n",
       " 'https://en.wikipedia.org/wiki/Python#Vehicles',\n",
       " 'https://en.wikipedia.org/wiki/Python#Weaponry',\n",
       " 'https://en.wikipedia.org/wiki/Python#Other_uses',\n",
       " 'https://en.wikipedia.org/wiki/Python#See_also',\n",
       " 'https://en.wikipedia.org/w/index.php?title=Python&action=edit&section=1&editintro=Template:Disambig_editintro',\n",
       " 'https://en.wikipedia.org/wiki/Pythonidae',\n",
       " 'https://en.wikipedia.org/wiki/Python_(genus)',\n",
       " 'https://en.wikipedia.org/wiki/Python_(mythology)',\n",
       " 'https://en.wikipedia.org/w/index.php?title=Python&action=edit&section=2&editintro=Template:Disambig_editintro',\n",
       " 'https://en.wikipedia.org/wiki/Python_(programming_language)',\n",
       " 'https://en.wikipedia.org/wiki/CMU_Common_Lisp',\n",
       " 'https://en.wikipedia.org/wiki/PERQ#PERQ_3',\n",
       " 'https://en.wikipedia.org/w/index.php?title=Python&action=edit&section=3&editintro=Template:Disambig_editintro',\n",
       " 'https://en.wikipedia.org/wiki/Python_of_Aenus',\n",
       " 'https://en.wikipedia.org/wiki/Python_(painter)',\n",
       " 'https://en.wikipedia.org/wiki/Python_of_Byzantium',\n",
       " 'https://en.wikipedia.org/wiki/Python_of_Catana',\n",
       " 'https://en.wikipedia.org/wiki/Python_Anghelo',\n",
       " 'https://en.wikipedia.org/w/index.php?title=Python&action=edit&section=4&editintro=Template:Disambig_editintro',\n",
       " 'https://en.wikipedia.org/wiki/Python_(Efteling)',\n",
       " 'https://en.wikipedia.org/wiki/Python_(Busch_Gardens_Tampa_Bay)',\n",
       " 'https://en.wikipedia.org/wiki/Python_(Coney_Island,_Cincinnati,_Ohio)',\n",
       " 'https://en.wikipedia.org/w/index.php?title=Python&action=edit&section=5&editintro=Template:Disambig_editintro',\n",
       " 'https://en.wikipedia.org/wiki/Python_(automobile_maker)',\n",
       " 'https://en.wikipedia.org/wiki/Python_(Ford_prototype)',\n",
       " 'https://en.wikipedia.org/w/index.php?title=Python&action=edit&section=6&editintro=Template:Disambig_editintro',\n",
       " 'https://en.wikipedia.org/wiki/Python_(missile)',\n",
       " 'https://en.wikipedia.org/wiki/Python_(nuclear_primary)',\n",
       " 'https://en.wikipedia.org/wiki/Colt_Python',\n",
       " 'https://en.wikipedia.org/w/index.php?title=Python&action=edit&section=7&editintro=Template:Disambig_editintro',\n",
       " 'https://en.wikipedia.org/wiki/Python_(codename)',\n",
       " 'https://en.wikipedia.org/wiki/Python_(film)',\n",
       " 'https://en.wikipedia.org/wiki/Monty_Python',\n",
       " 'https://en.wikipedia.org/wiki/Python_(Monty)_Pictures',\n",
       " 'https://en.wikipedia.org/wiki/Timon_of_Phlius',\n",
       " 'https://en.wikipedia.org/w/index.php?title=Python&action=edit&section=8&editintro=Template:Disambig_editintro',\n",
       " 'https://en.wikipedia.org/wiki/Cython',\n",
       " 'https://en.wikipedia.org/wiki/Pyton',\n",
       " 'https://en.wikipedia.org/wiki/Pithon',\n",
       " 'https://en.wikipedia.org/wiki/File:Disambig_gray.svg',\n",
       " 'https://en.wikipedia.org/wiki/Help:Disambiguation',\n",
       " 'https://en.wikipedia.org/w/index.php?title=Special:WhatLinksHere/Python&namespace=0',\n",
       " 'https://en.wikipedia.org/w/index.php?title=Python&oldid=1120123765',\n",
       " 'https://en.wikipedia.org/wiki/Help:Category',\n",
       " 'https://en.wikipedia.org/wiki/Category:Disambiguation_pages',\n",
       " 'https://en.wikipedia.org/wiki/Category:Human_name_disambiguation_pages',\n",
       " 'https://en.wikipedia.org/wiki/Category:Disambiguation_pages_with_given-name-holder_lists',\n",
       " 'https://en.wikipedia.org/wiki/Category:Disambiguation_pages_with_short_descriptions',\n",
       " 'https://en.wikipedia.org/wiki/Category:Short_description_is_different_from_Wikidata',\n",
       " 'https://en.wikipedia.org/wiki/Category:All_article_disambiguation_pages',\n",
       " 'https://en.wikipedia.org/wiki/Category:All_disambiguation_pages',\n",
       " 'https://en.wikipedia.org/wiki/Category:Animal_common_name_disambiguation_pages',\n",
       " 'https://en.wikipedia.org/wiki/Special:MyTalk',\n",
       " 'https://en.wikipedia.org/wiki/Special:MyContributions',\n",
       " 'https://en.wikipedia.org/w/index.php?title=Special:CreateAccount&returnto=Python',\n",
       " 'https://en.wikipedia.org/w/index.php?title=Special:UserLogin&returnto=Python',\n",
       " 'https://en.wikipedia.org/wiki/Python',\n",
       " 'https://en.wikipedia.org/wiki/Talk:Python',\n",
       " 'https://en.wikipedia.org/wiki/Python',\n",
       " 'https://en.wikipedia.org/w/index.php?title=Python&action=edit&editintro=Template:Disambig_editintro',\n",
       " 'https://en.wikipedia.org/w/index.php?title=Python&action=history',\n",
       " 'https://en.wikipedia.org/wiki/Main_Page',\n",
       " 'https://en.wikipedia.org/wiki/Main_Page',\n",
       " 'https://en.wikipedia.org/wiki/Wikipedia:Contents',\n",
       " 'https://en.wikipedia.org/wiki/Portal:Current_events',\n",
       " 'https://en.wikipedia.org/wiki/Special:Random',\n",
       " 'https://en.wikipedia.org/wiki/Wikipedia:About',\n",
       " 'https://en.wikipedia.org/wiki/Wikipedia:Contact_us',\n",
       " 'https://donate.wikimedia.org/wiki/Special:FundraiserRedirector?utm_source=donate&utm_medium=sidebar&utm_campaign=C13_en.wikipedia.org&uselang=en',\n",
       " 'https://en.wikipedia.org/wiki/Help:Contents',\n",
       " 'https://en.wikipedia.org/wiki/Help:Introduction',\n",
       " 'https://en.wikipedia.org/wiki/Wikipedia:Community_portal',\n",
       " 'https://en.wikipedia.org/wiki/Special:RecentChanges',\n",
       " 'https://en.wikipedia.org/wiki/Wikipedia:File_Upload_Wizard',\n",
       " 'https://en.wikipedia.org/wiki/Special:WhatLinksHere/Python',\n",
       " 'https://en.wikipedia.org/wiki/Special:RecentChangesLinked/Python',\n",
       " 'https://en.wikipedia.org/wiki/Wikipedia:File_Upload_Wizard',\n",
       " 'https://en.wikipedia.org/wiki/Special:SpecialPages',\n",
       " 'https://en.wikipedia.org/w/index.php?title=Python&oldid=1120123765',\n",
       " 'https://en.wikipedia.org/w/index.php?title=Python&action=info',\n",
       " 'https://en.wikipedia.org/w/index.php?title=Special:CiteThisPage&page=Python&id=1120123765&wpFormIdentifier=titleform',\n",
       " 'https://www.wikidata.org/wiki/Special:EntityPage/Q747452',\n",
       " 'https://en.wikipedia.org/w/index.php?title=Special:DownloadAsPdf&page=Python&action=show-download-screen',\n",
       " 'https://en.wikipedia.org/w/index.php?title=Python&printable=yes',\n",
       " 'https://commons.wikimedia.org/wiki/Category:Python',\n",
       " 'https://af.wikipedia.org/wiki/Python',\n",
       " 'https://als.wikipedia.org/wiki/Python',\n",
       " 'https://ar.wikipedia.org/wiki/%D8%A8%D8%A7%D9%8A%D8%AB%D9%88%D9%86_(%D8%AA%D9%88%D8%B6%D9%8A%D8%AD)',\n",
       " 'https://az.wikipedia.org/wiki/Python',\n",
       " 'https://bn.wikipedia.org/wiki/%E0%A6%AA%E0%A6%BE%E0%A6%87%E0%A6%A5%E0%A6%A8_(%E0%A6%A6%E0%A7%8D%E0%A6%AC%E0%A7%8D%E0%A6%AF%E0%A6%B0%E0%A7%8D%E0%A6%A5%E0%A6%A4%E0%A6%BE_%E0%A6%A8%E0%A6%BF%E0%A6%B0%E0%A6%B8%E0%A6%A8)',\n",
       " 'https://be.wikipedia.org/wiki/Python',\n",
       " 'https://bg.wikipedia.org/wiki/%D0%9F%D0%B8%D1%82%D0%BE%D0%BD_(%D0%BF%D0%BE%D1%8F%D1%81%D0%BD%D0%B5%D0%BD%D0%B8%D0%B5)',\n",
       " 'https://cs.wikipedia.org/wiki/Python_(rozcestn%C3%ADk)',\n",
       " 'https://da.wikipedia.org/wiki/Python',\n",
       " 'https://de.wikipedia.org/wiki/Python',\n",
       " 'https://eo.wikipedia.org/wiki/Pitono_(apartigilo)',\n",
       " 'https://eu.wikipedia.org/wiki/Python_(argipena)',\n",
       " 'https://fa.wikipedia.org/wiki/%D9%BE%D8%A7%DB%8C%D8%AA%D9%88%D9%86',\n",
       " 'https://fr.wikipedia.org/wiki/Python',\n",
       " 'https://ko.wikipedia.org/wiki/%ED%8C%8C%EC%9D%B4%EC%84%A0',\n",
       " 'https://hr.wikipedia.org/wiki/Python_(razdvojba)',\n",
       " 'https://io.wikipedia.org/wiki/Pitono',\n",
       " 'https://id.wikipedia.org/wiki/Python',\n",
       " 'https://ia.wikipedia.org/wiki/Python_(disambiguation)',\n",
       " 'https://is.wikipedia.org/wiki/Python_(a%C3%B0greining)',\n",
       " 'https://it.wikipedia.org/wiki/Python_(disambigua)',\n",
       " 'https://he.wikipedia.org/wiki/%D7%A4%D7%99%D7%AA%D7%95%D7%9F',\n",
       " 'https://ka.wikipedia.org/wiki/%E1%83%9E%E1%83%98%E1%83%97%E1%83%9D%E1%83%9C%E1%83%98_(%E1%83%9B%E1%83%A0%E1%83%90%E1%83%95%E1%83%90%E1%83%9A%E1%83%9B%E1%83%9C%E1%83%98%E1%83%A8%E1%83%95%E1%83%9C%E1%83%94%E1%83%9A%E1%83%9D%E1%83%95%E1%83%90%E1%83%9C%E1%83%98)',\n",
       " 'https://kg.wikipedia.org/wiki/Mboma_(nyoka)',\n",
       " 'https://la.wikipedia.org/wiki/Python_(discretiva)',\n",
       " 'https://lb.wikipedia.org/wiki/Python',\n",
       " 'https://hu.wikipedia.org/wiki/Python_(egy%C3%A9rtelm%C5%B1s%C3%ADt%C5%91_lap)',\n",
       " 'https://mr.wikipedia.org/wiki/%E0%A4%AA%E0%A4%BE%E0%A4%AF%E0%A4%A5%E0%A5%89%E0%A4%A8_(%E0%A4%86%E0%A4%9C%E0%A5%8D%E0%A4%9E%E0%A4%BE%E0%A4%B5%E0%A4%B2%E0%A5%80_%E0%A4%AD%E0%A4%BE%E0%A4%B7%E0%A4%BE)',\n",
       " 'https://nl.wikipedia.org/wiki/Python',\n",
       " 'https://ja.wikipedia.org/wiki/%E3%83%91%E3%82%A4%E3%82%BD%E3%83%B3',\n",
       " 'https://no.wikipedia.org/wiki/Pyton',\n",
       " 'https://pl.wikipedia.org/wiki/Pyton',\n",
       " 'https://pt.wikipedia.org/wiki/Python_(desambigua%C3%A7%C3%A3o)',\n",
       " 'https://ru.wikipedia.org/wiki/Python_(%D0%B7%D0%BD%D0%B0%D1%87%D0%B5%D0%BD%D0%B8%D1%8F)',\n",
       " 'https://sk.wikipedia.org/wiki/Python',\n",
       " 'https://sr.wikipedia.org/wiki/%D0%9F%D0%B8%D1%82%D0%BE%D0%BD_(%D0%B2%D0%B8%D1%88%D0%B5%D0%B7%D0%BD%D0%B0%D1%87%D0%BD%D0%B0_%D0%BE%D0%B4%D1%80%D0%B5%D0%B4%D0%BD%D0%B8%D1%86%D0%B0)',\n",
       " 'https://sh.wikipedia.org/wiki/Python',\n",
       " 'https://fi.wikipedia.org/wiki/Python',\n",
       " 'https://sv.wikipedia.org/wiki/Pyton',\n",
       " 'https://th.wikipedia.org/wiki/%E0%B9%84%E0%B8%9E%E0%B8%97%E0%B8%AD%E0%B8%99',\n",
       " 'https://tr.wikipedia.org/wiki/Python_(anlam_ayr%C4%B1m%C4%B1)',\n",
       " 'https://uk.wikipedia.org/wiki/%D0%9F%D1%96%D1%84%D0%BE%D0%BD',\n",
       " 'https://ur.wikipedia.org/wiki/%D9%BE%D8%A7%D8%A6%DB%8C%D8%AA%DA%BE%D9%88%D9%86',\n",
       " 'https://vi.wikipedia.org/wiki/Python',\n",
       " 'https://zh.wikipedia.org/wiki/Python_(%E6%B6%88%E6%AD%A7%E4%B9%89)',\n",
       " 'https://www.wikidata.org/wiki/Special:EntityPage/Q747452#sitelinks-wikipedia',\n",
       " 'https://en.wikipedia.org/wiki/Wikipedia:Text_of_Creative_Commons_Attribution-ShareAlike_3.0_Unported_License',\n",
       " 'https://creativecommons.org/licenses/by-sa/3.0/',\n",
       " 'https://foundation.wikimedia.org/wiki/Terms_of_Use',\n",
       " 'https://foundation.wikimedia.org/wiki/Privacy_policy',\n",
       " 'https://www.wikimediafoundation.org/',\n",
       " 'https://foundation.wikimedia.org/wiki/Privacy_policy',\n",
       " 'https://en.wikipedia.org/wiki/Wikipedia:About',\n",
       " 'https://en.wikipedia.org/wiki/Wikipedia:General_disclaimer',\n",
       " 'https://en.wikipedia.org/wiki/Wikipedia:Contact_us',\n",
       " 'https://en.m.wikipedia.org/w/index.php?title=Python&mobileaction=toggle_view_mobile',\n",
       " 'https://developer.wikimedia.org/',\n",
       " 'https://stats.wikimedia.org/#/en.wikipedia.org',\n",
       " 'https://foundation.wikimedia.org/wiki/Cookie_statement',\n",
       " 'https://en.wikipedia.org/wiki/Python#',\n",
       " 'https://wikimediafoundation.org/',\n",
       " 'https://www.mediawiki.org/',\n",
       " 'https://en.wikipedia.org/wiki/Python?action=edit']"
      ]
     },
     "execution_count": 215,
     "metadata": {},
     "output_type": "execute_result"
    }
   ],
   "source": [
    "pyth = browser.find_elements(By.TAG_NAME,'a')\n",
    "\n",
    "pythlink = [i.get_attribute('href') for i in pyth]\n",
    "\n",
    "pythlink"
   ]
  },
  {
   "cell_type": "code",
   "execution_count": 216,
   "metadata": {},
   "outputs": [],
   "source": [
    "import random\n",
    "\n",
    "tam = len(pythlink)\n",
    "\n",
    "PATH = ChromeDriverManager().install()      \n",
    "browser = webdriver.Chrome(PATH)\n",
    "browser.get(pythlink[(random.randint(1, tam))])"
   ]
  },
  {
   "cell_type": "code",
   "execution_count": 226,
   "metadata": {},
   "outputs": [
    {
     "data": {
      "text/plain": [
       "[None,\n",
       " 'https://en.wikipedia.org/wiki/Wikipedia:Protection_policy#full',\n",
       " 'https://en.wikipedia.org/wiki/Wikipedia:General_disclaimer#mw-head',\n",
       " 'https://en.wikipedia.org/wiki/Wikipedia:General_disclaimer#searchInput',\n",
       " None,\n",
       " 'https://en.wikipedia.org/wiki/Wikipedia:Content_disclaimer',\n",
       " 'https://en.wikipedia.org/wiki/Wikipedia:Legal_disclaimer',\n",
       " 'https://en.wikipedia.org/wiki/Wikipedia:Medical_disclaimer',\n",
       " 'https://en.wikipedia.org/wiki/Wikipedia:Risk_disclaimer',\n",
       " 'https://en.wikipedia.org/wiki/Wikipedia:Survey_disclaimer',\n",
       " 'https://en.wikipedia.org/wiki/Wikipedia:Non-Wikipedia_disclaimers',\n",
       " 'https://en.wikipedia.org/wiki/Special:RecentChanges',\n",
       " 'https://en.wikipedia.org/wiki/Special:NewPages',\n",
       " 'https://en.wikipedia.org/wiki/Wikipedia:Peer_review',\n",
       " 'https://en.wikipedia.org/wiki/Wikipedia:Featured_articles',\n",
       " 'https://en.wikipedia.org/wiki/Wikipedia:Text_of_Creative_Commons_Attribution-ShareAlike_3.0_Unported_License',\n",
       " 'https://en.wikipedia.org/wiki/Wikipedia:Text_of_the_GNU_Free_Documentation_License',\n",
       " 'https://en.wikipedia.org/wiki/Personality_rights',\n",
       " 'https://en.wikipedia.org/w/index.php?title=Wikipedia:General_disclaimer&oldid=1071146769',\n",
       " 'https://en.wikipedia.org/wiki/Help:Category',\n",
       " 'https://en.wikipedia.org/wiki/Category:Wikipedia_disclaimers',\n",
       " 'https://en.wikipedia.org/wiki/Category:Wikipedia_fully-protected_project_pages',\n",
       " 'https://en.wikipedia.org/wiki/Special:MyTalk',\n",
       " 'https://en.wikipedia.org/wiki/Special:MyContributions',\n",
       " 'https://en.wikipedia.org/w/index.php?title=Special:CreateAccount&returnto=Wikipedia%3AGeneral+disclaimer',\n",
       " 'https://en.wikipedia.org/w/index.php?title=Special:UserLogin&returnto=Wikipedia%3AGeneral+disclaimer',\n",
       " 'https://en.wikipedia.org/wiki/Wikipedia:General_disclaimer',\n",
       " 'https://en.wikipedia.org/wiki/Wikipedia_talk:General_disclaimer',\n",
       " 'https://en.wikipedia.org/wiki/Wikipedia:General_disclaimer',\n",
       " 'https://en.wikipedia.org/w/index.php?title=Wikipedia:General_disclaimer&action=edit',\n",
       " 'https://en.wikipedia.org/w/index.php?title=Wikipedia:General_disclaimer&action=history',\n",
       " 'https://en.wikipedia.org/wiki/Main_Page',\n",
       " 'https://en.wikipedia.org/wiki/Main_Page',\n",
       " 'https://en.wikipedia.org/wiki/Wikipedia:Contents',\n",
       " 'https://en.wikipedia.org/wiki/Portal:Current_events',\n",
       " 'https://en.wikipedia.org/wiki/Special:Random',\n",
       " 'https://en.wikipedia.org/wiki/Wikipedia:About',\n",
       " 'https://en.wikipedia.org/wiki/Wikipedia:Contact_us',\n",
       " 'https://donate.wikimedia.org/wiki/Special:FundraiserRedirector?utm_source=donate&utm_medium=sidebar&utm_campaign=C13_en.wikipedia.org&uselang=en',\n",
       " 'https://en.wikipedia.org/wiki/Help:Contents',\n",
       " 'https://en.wikipedia.org/wiki/Help:Introduction',\n",
       " 'https://en.wikipedia.org/wiki/Wikipedia:Community_portal',\n",
       " 'https://en.wikipedia.org/wiki/Special:RecentChanges',\n",
       " 'https://en.wikipedia.org/wiki/Wikipedia:File_Upload_Wizard',\n",
       " 'https://en.wikipedia.org/wiki/Special:WhatLinksHere/Wikipedia:General_disclaimer',\n",
       " 'https://en.wikipedia.org/wiki/Special:RecentChangesLinked/Wikipedia:General_disclaimer',\n",
       " 'https://en.wikipedia.org/wiki/Wikipedia:File_Upload_Wizard',\n",
       " 'https://en.wikipedia.org/wiki/Special:SpecialPages',\n",
       " 'https://en.wikipedia.org/w/index.php?title=Wikipedia:General_disclaimer&oldid=1071146769',\n",
       " 'https://en.wikipedia.org/w/index.php?title=Wikipedia:General_disclaimer&action=info',\n",
       " 'https://www.wikidata.org/wiki/Special:EntityPage/Q4980478',\n",
       " 'https://en.wikipedia.org/w/index.php?title=Special:DownloadAsPdf&page=Wikipedia%3AGeneral_disclaimer&action=show-download-screen',\n",
       " 'https://en.wikipedia.org/w/index.php?title=Wikipedia:General_disclaimer&printable=yes',\n",
       " 'https://commons.wikimedia.org/wiki/Commons:General_disclaimer',\n",
       " 'https://www.mediawiki.org/wiki/Project:General_disclaimer',\n",
       " 'https://meta.wikimedia.org/wiki/Meta:General_disclaimer',\n",
       " 'https://species.wikimedia.org/wiki/Wikispecies:General_disclaimer',\n",
       " 'https://en.wikibooks.org/wiki/Wikibooks:General_disclaimer',\n",
       " 'https://www.wikidata.org/wiki/Wikidata:General_disclaimer',\n",
       " 'https://en.wikinews.org/wiki/Wikinews:General_disclaimer',\n",
       " 'https://en.wikiquote.org/wiki/Wikiquote:General_disclaimer',\n",
       " 'https://en.wikisource.org/wiki/Wikisource:General_disclaimer',\n",
       " 'https://en.wikiversity.org/wiki/Wikiversity:General_disclaimer',\n",
       " 'https://en.wikivoyage.org/wiki/Wikivoyage:Disclaimer',\n",
       " 'https://en.wiktionary.org/wiki/Wiktionary:General_disclaimer',\n",
       " 'https://af.wikipedia.org/wiki/Wikipedia:General_disclaimer',\n",
       " 'https://als.wikipedia.org/wiki/Wikipedia:Impressum',\n",
       " 'https://ar.wikipedia.org/wiki/%D9%88%D9%8A%D9%83%D9%8A%D8%A8%D9%8A%D8%AF%D9%8A%D8%A7:%D8%A5%D8%AE%D9%84%D8%A7%D8%A1_%D9%85%D8%B3%D8%A4%D9%88%D9%84%D9%8A%D8%A9_%D8%B9%D8%A7%D9%85',\n",
       " 'https://an.wikipedia.org/wiki/Wikipedia:Alvertencias_chenerals',\n",
       " 'https://arc.wikipedia.org/wiki/%DC%98%DC%9D%DC%A9%DC%9D%DC%A6%DC%95%DC%9D%DC%90:General_disclaimer',\n",
       " 'https://as.wikipedia.org/wiki/%E0%A7%B1%E0%A6%BF%E0%A6%95%E0%A6%BF%E0%A6%AA%E0%A6%BF%E0%A6%A1%E0%A6%BF%E0%A6%AF%E0%A6%BC%E0%A6%BE:%E0%A6%B8%E0%A6%BE%E0%A6%A7%E0%A6%BE%E0%A7%B0%E0%A6%A3_%E0%A6%A6%E0%A6%BE%E0%A6%AF%E0%A6%BC%E0%A6%B2%E0%A7%81%E0%A6%AA%E0%A7%8D%E0%A6%A4%E0%A6%BF',\n",
       " 'https://ast.wikipedia.org/wiki/Wikipedia:Llimitaci%C3%B3n_xeneral_de_responsabilid%C3%A1',\n",
       " 'https://gn.wikipedia.org/wiki/Vikipet%C3%A3:Arigua_rehegua',\n",
       " 'https://az.wikipedia.org/wiki/Vikipediya:M%C9%99suliyy%C9%99td%C9%99n_imtina',\n",
       " 'https://azb.wikipedia.org/wiki/%D9%88%DB%8C%DA%A9%DB%8C%E2%80%8C%D9%BE%D8%AF%DB%8C%D8%A7:%DA%AF%D8%A6%D9%86%D9%84_%DB%8C%D8%A7%D9%84%D8%A7%D9%86%D9%84%D8%A7%D9%85%D8%A7',\n",
       " 'https://bm.wikipedia.org/wiki/Wikipedia:Avertissements_g%C3%A9n%C3%A9raux',\n",
       " 'https://bn.wikipedia.org/wiki/%E0%A6%89%E0%A6%87%E0%A6%95%E0%A6%BF%E0%A6%AA%E0%A6%BF%E0%A6%A1%E0%A6%BF%E0%A6%AF%E0%A6%BC%E0%A6%BE:%E0%A6%B8%E0%A6%BE%E0%A6%A7%E0%A6%BE%E0%A6%B0%E0%A6%A3_%E0%A6%A6%E0%A6%BE%E0%A6%AC%E0%A6%BF%E0%A6%A4%E0%A7%8D%E0%A6%AF%E0%A6%BE%E0%A6%97',\n",
       " 'https://zh-min-nan.wikipedia.org/wiki/Wikipedia:Bi%C3%A1n-chek_seng-b%C3%AAng',\n",
       " 'https://ba.wikipedia.org/wiki/%D0%92%D0%B8%D0%BA%D0%B8%D0%BF%D0%B5%D0%B4%D0%B8%D1%8F:%D0%AF%D1%83%D0%B0%D0%BF%D0%BB%D1%8B%D0%BB%D1%8B%D2%A1%D1%82%D0%B0%D0%BD_%D0%B1%D0%B0%D1%88_%D1%82%D0%B0%D1%80%D1%82%D1%8B%D1%83',\n",
       " 'https://be.wikipedia.org/wiki/%D0%92%D1%96%D0%BA%D1%96%D0%BF%D0%B5%D0%B4%D1%8B%D1%8F:%D0%90%D0%B4%D0%BC%D0%BE%D0%B2%D0%B0_%D0%B0%D0%B4_%D0%B0%D0%B4%D0%BA%D0%B0%D0%B7%D0%BD%D0%B0%D1%81%D1%86%D1%96',\n",
       " 'https://be-tarask.wikipedia.org/wiki/%D0%92%D1%96%D0%BA%D1%96%D0%BF%D1%8D%D0%B4%D1%8B%D1%8F:%D0%90%D0%B4%D0%BC%D0%BE%D0%B2%D0%B0_%D0%B0%D0%B4_%D0%B0%D0%B4%D0%BA%D0%B0%D0%B7%D0%BD%D0%B0%D1%81%D1%8C%D1%86%D1%96',\n",
       " 'https://bh.wikipedia.org/wiki/%E0%A4%B5%E0%A4%BF%E0%A4%95%E0%A4%BF%E0%A4%AA%E0%A5%80%E0%A4%A1%E0%A4%BF%E0%A4%AF%E0%A4%BE:%E0%A4%B8%E0%A4%BE%E0%A4%AE%E0%A4%BE%E0%A4%A8%E0%A5%8D%E0%A4%AF_%E0%A4%85%E0%A4%B8%E0%A5%8D%E0%A4%B5%E0%A4%BF%E0%A4%95%E0%A4%B0%E0%A4%A3',\n",
       " 'https://bcl.wikipedia.org/wiki/Wikipedia:Pankagabsan_na_pagsayuma',\n",
       " 'https://bg.wikipedia.org/wiki/%D0%A3%D0%B8%D0%BA%D0%B8%D0%BF%D0%B5%D0%B4%D0%B8%D1%8F:%D0%9F%D1%80%D0%B5%D0%B4%D1%83%D0%BF%D1%80%D0%B5%D0%B6%D0%B4%D0%B5%D0%BD%D0%B8%D0%B5',\n",
       " 'https://bar.wikipedia.org/wiki/Wikipedia:Impressum',\n",
       " 'https://bo.wikipedia.org/wiki/Wikipedia:General_disclaimer',\n",
       " 'https://bs.wikipedia.org/wiki/Wikipedia:Odricanje_odgovornosti',\n",
       " 'https://bxr.wikipedia.org/wiki/%D0%92%D0%B8%D0%BA%D0%B8%D0%BF%D0%B5%D1%8D%D0%B4%D0%B8:%D0%9D%D0%B8%D0%B8%D1%82%D1%8D_%D1%82%D0%B0%D1%82%D0%B0%D0%B3%D0%B0%D0%BB%D0%B7%D0%B0%D0%BB',\n",
       " 'https://ca.wikipedia.org/wiki/Viquip%C3%A8dia:Av%C3%ADs_d%27exempci%C3%B3_de_responsabilitat',\n",
       " 'https://ceb.wikipedia.org/wiki/Wikipedia:Mga_pagpasabot',\n",
       " 'https://cs.wikipedia.org/wiki/Wikipedie:Vylou%C4%8Den%C3%AD_odpov%C4%9Bdnosti',\n",
       " 'https://ny.wikipedia.org/wiki/Wikipedia:General_disclaimer',\n",
       " 'https://sn.wikipedia.org/wiki/Wikipedia:General_disclaimer',\n",
       " 'https://cy.wikipedia.org/wiki/Wicipedia:Gwadiad_Cyffredinol',\n",
       " 'https://da.wikipedia.org/wiki/Wikipedia:Generelle_forbehold',\n",
       " 'https://de.wikipedia.org/wiki/Wikipedia:Impressum',\n",
       " 'https://nv.wikipedia.org/wiki/Wikiib%C3%AD%C3%ADdiiya:General_disclaimer',\n",
       " 'https://et.wikipedia.org/wiki/Vikipeedia:%C3%9Cldine_lahti%C3%BCtlus',\n",
       " 'https://el.wikipedia.org/wiki/%CE%92%CE%B9%CE%BA%CE%B9%CF%80%CE%B1%CE%AF%CE%B4%CE%B5%CE%B9%CE%B1:%CE%91%CF%80%CE%BF%CF%80%CE%BF%CE%AF%CE%B7%CF%83%CE%B7_%CE%B5%CF%85%CE%B8%CF%85%CE%BD%CF%8E%CE%BD',\n",
       " 'https://eml.wikipedia.org/wiki/Wikipedia:Avert%C3%A8insi_gener%C3%A8li',\n",
       " 'https://es.wikipedia.org/wiki/Wikipedia:Limitaci%C3%B3n_general_de_responsabilidad',\n",
       " 'https://eo.wikipedia.org/wiki/Vikipedio:Malgarantio',\n",
       " 'https://eu.wikipedia.org/wiki/Wikipedia:Erantzukizunen_mugaketa_orokorra',\n",
       " 'https://ee.wikipedia.org/wiki/Wikipedia:General_disclaimer',\n",
       " 'https://fa.wikipedia.org/wiki/%D9%88%DB%8C%DA%A9%DB%8C%E2%80%8C%D9%BE%D8%AF%DB%8C%D8%A7:%D8%AA%DA%A9%D8%B0%DB%8C%D8%A8%E2%80%8C%D9%86%D8%A7%D9%85%D9%87%D9%94_%D8%B9%D9%85%D9%88%D9%85%DB%8C',\n",
       " 'https://fo.wikipedia.org/wiki/Wikipedia:General_disclaimer',\n",
       " 'https://fr.wikipedia.org/wiki/Wikip%C3%A9dia:Avertissements_g%C3%A9n%C3%A9raux',\n",
       " 'https://fur.wikipedia.org/wiki/Vichipedie:General_disclaimer',\n",
       " 'https://ga.wikipedia.org/wiki/Vicip%C3%A9id:S%C3%A9anadh_ginear%C3%A1lta',\n",
       " 'https://gd.wikipedia.org/wiki/Uicipeid:General_disclaimer',\n",
       " 'https://gl.wikipedia.org/wiki/Wikipedia:Advertencia_xeral',\n",
       " 'https://inh.wikipedia.org/wiki/%D0%92%D0%B8%D0%BA%D0%B8%D0%BF%D0%B5%D0%B4%D0%B8:%D0%91%D0%B5%D1%85%D0%BA%D1%82%D0%BE%D0%BA%D1%85%D0%B0%D0%BC_%D1%82%D3%80%D0%B0%D1%86%D0%B0%D1%8D%D1%86%D0%B0%D1%80',\n",
       " 'https://gan.wikipedia.org/wiki/Wikipedia:%E5%85%8D%E8%B2%AC%E8%81%B2%E6%98%8E',\n",
       " 'https://gu.wikipedia.org/wiki/%E0%AA%B5%E0%AA%BF%E0%AA%95%E0%AA%BF%E0%AA%AA%E0%AB%80%E0%AA%A1%E0%AA%BF%E0%AA%AF%E0%AA%BE:General_disclaimer',\n",
       " 'https://ko.wikipedia.org/wiki/%EC%9C%84%ED%82%A4%EB%B0%B1%EA%B3%BC:%EB%A9%B4%EC%B1%85_%EC%A1%B0%ED%95%AD',\n",
       " 'https://haw.wikipedia.org/wiki/Wikipedia:N%C4%81_a%E2%80%98o_%E2%80%98ana_laul%C4%81',\n",
       " 'https://hy.wikipedia.org/wiki/%D5%8E%D5%AB%D6%84%D5%AB%D5%BA%D5%A5%D5%A4%D5%AB%D5%A1:%D4%B8%D5%B6%D5%A4%D5%B0%D5%A1%D5%B6%D5%B8%D6%82%D6%80_%D5%B0%D6%80%D5%A1%D5%AA%D5%A1%D6%80%D5%A1%D5%A3%D5%AB%D6%80',\n",
       " 'https://hi.wikipedia.org/wiki/%E0%A4%B5%E0%A4%BF%E0%A4%95%E0%A4%BF%E0%A4%AA%E0%A5%80%E0%A4%A1%E0%A4%BF%E0%A4%AF%E0%A4%BE:%E0%A4%B8%E0%A4%BE%E0%A4%A7%E0%A4%BE%E0%A4%B0%E0%A4%A3_%E0%A4%85%E0%A4%B8%E0%A5%8D%E0%A4%B5%E0%A5%80%E0%A4%95%E0%A4%B0%E0%A4%A3',\n",
       " 'https://hr.wikipedia.org/wiki/Wikipedija:Op%C4%87e_odricanje_od_odgovornosti',\n",
       " 'https://gor.wikipedia.org/wiki/Wikipedia:Mom%C4%81hu_umum',\n",
       " 'https://ig.wikipedia.org/wiki/Wikipedia:General_disclaimer',\n",
       " 'https://ilo.wikipedia.org/wiki/Wikipedia:Sapasap_a_renunsia',\n",
       " 'https://id.wikipedia.org/wiki/Wikipedia:Penyangkalan_umum',\n",
       " 'https://ia.wikipedia.org/wiki/Wikipedia:Declaration_general_de_non-responsabilitate',\n",
       " 'https://os.wikipedia.org/wiki/%D0%92%D0%B8%D0%BA%D0%B8%D0%BF%D0%B5%D0%B4%D0%B8:%D0%91%C3%A6%D1%80%D0%BD',\n",
       " 'https://xh.wikipedia.org/wiki/Wikipedia:General_disclaimer',\n",
       " 'https://zu.wikipedia.org/wiki/Wikipedia:General_disclaimer',\n",
       " 'https://is.wikipedia.org/wiki/Wikipedia:Almennur_fyrirvari',\n",
       " 'https://it.wikipedia.org/wiki/Wikipedia:Avvertenze_generali',\n",
       " 'https://he.wikipedia.org/wiki/%D7%95%D7%99%D7%A7%D7%99%D7%A4%D7%93%D7%99%D7%94:%D7%94%D7%91%D7%94%D7%A8%D7%95%D7%AA_%D7%9E%D7%A9%D7%A4%D7%98%D7%99%D7%95%D7%AA',\n",
       " 'https://jv.wikipedia.org/wiki/Wikip%C3%A9dia:S%C3%A9lakan_umum',\n",
       " 'https://kn.wikipedia.org/wiki/%E0%B2%B5%E0%B2%BF%E0%B2%95%E0%B2%BF%E0%B2%AA%E0%B3%80%E0%B2%A1%E0%B2%BF%E0%B2%AF:General_disclaimer',\n",
       " 'https://ka.wikipedia.org/wiki/%E1%83%95%E1%83%98%E1%83%99%E1%83%98%E1%83%9E%E1%83%94%E1%83%93%E1%83%98%E1%83%90:%E1%83%9E%E1%83%90%E1%83%A1%E1%83%A3%E1%83%AE%E1%83%98%E1%83%A1%E1%83%9B%E1%83%92%E1%83%94%E1%83%91%E1%83%9A%E1%83%9D%E1%83%91%E1%83%98%E1%83%A1_%E1%83%A3%E1%83%90%E1%83%A0%E1%83%A7%E1%83%9D%E1%83%A4%E1%83%90',\n",
       " 'https://ks.wikipedia.org/wiki/%D9%88%D9%90%DA%A9%DB%8C%D9%96%D9%BE%DB%8C%D9%96%DA%88%DB%8C%D8%A7:%D8%B9%D9%8E%D9%88%D9%B2%D9%85%DB%8C_%D8%A7%D9%90%D8%B8%DB%81%D8%A7%D8%B1%D9%90_%D9%84%D8%A7_%D8%AA%D9%88%D9%84%D9%8F%D9%82%DB%8C',\n",
       " 'https://kw.wikipedia.org/wiki/Wikipedia:General_disclaimer',\n",
       " 'https://sw.wikipedia.org/wiki/Wikipedia:Kanusho_kwa_jumla',\n",
       " 'https://ht.wikipedia.org/wiki/Wikipedya:Av%C3%A8tisman_jeneral',\n",
       " 'https://ku.wikipedia.org/wiki/W%C3%AEk%C3%AEpediya:Ferexetname',\n",
       " 'https://ky.wikipedia.org/wiki/%D0%92%D0%B8%D0%BA%D0%B8%D0%BF%D0%B5%D0%B4%D0%B8%D1%8F:%D0%96%D0%BE%D0%BE%D0%BF%D0%BA%D0%B5%D1%80%D1%87%D0%B8%D0%BB%D0%B8%D0%BA%D1%82%D0%B5%D0%BD_%D0%B1%D0%B0%D1%88_%D1%82%D0%B0%D1%80%D1%82%D1%83%D1%83',\n",
       " 'https://lo.wikipedia.org/wiki/%E0%BA%A7%E0%BA%B4%E0%BA%81%E0%BA%B4%E0%BA%9E%E0%BA%B5%E0%BB%80%E0%BA%94%E0%BA%8D:%E0%BA%82%E0%BB%8D%E0%BB%89%E0%BA%9B%E0%BA%B0%E0%BA%95%E0%BA%B4%E0%BB%80%E0%BA%AA%E0%BA%94%E0%BA%84%E0%BA%A7%E0%BA%B2%E0%BA%A1%E0%BA%AE%E0%BA%B1%E0%BA%9A%E0%BA%9C%E0%BA%B4%E0%BA%94%E0%BA%8A%E0%BA%AD%E0%BA%9A',\n",
       " 'https://lv.wikipedia.org/wiki/Vikip%C4%93dija:Saist%C4%ABbu_atrunas',\n",
       " 'https://lb.wikipedia.org/wiki/Wikipedia:General_disclaimer',\n",
       " 'https://lt.wikipedia.org/wiki/Vikipedija:Joki%C5%B3_garantij%C5%B3',\n",
       " 'https://lij.wikipedia.org/wiki/Wikipedia:Avertense_gener%C3%A2li',\n",
       " 'https://li.wikipedia.org/wiki/Wikipedia:Algemein_aafwiezing_aansjpraokelikheid',\n",
       " 'https://ln.wikipedia.org/wiki/Wikipedia:Boyanoli_ndelo',\n",
       " 'https://hu.wikipedia.org/wiki/Wikip%C3%A9dia:Jogi_nyilatkozat',\n",
       " 'https://mk.wikipedia.org/wiki/%D0%92%D0%B8%D0%BA%D0%B8%D0%BF%D0%B5%D0%B4%D0%B8%D1%98%D0%B0:%D0%9E%D0%B4%D1%80%D0%B5%D0%BA%D1%83%D0%B2%D0%B0%D1%9A%D0%B5_%D0%BE%D0%B4_%D0%BE%D0%B4%D0%B3%D0%BE%D0%B2%D0%BE%D1%80%D0%BD%D0%BE%D1%81%D1%82',\n",
       " 'https://ml.wikipedia.org/wiki/%E0%B4%B5%E0%B4%BF%E0%B4%95%E0%B5%8D%E0%B4%95%E0%B4%BF%E0%B4%AA%E0%B5%80%E0%B4%A1%E0%B4%BF%E0%B4%AF:%E0%B4%AA%E0%B5%8A%E0%B4%A4%E0%B5%81%E0%B4%A8%E0%B4%BF%E0%B4%B0%E0%B4%BE%E0%B4%95%E0%B4%B0%E0%B4%A3%E0%B4%82',\n",
       " 'https://mt.wikipedia.org/wiki/Wikipedija:%C4%8Aa%C4%A7da_%C4%A1enerali',\n",
       " 'https://mr.wikipedia.org/wiki/%E0%A4%B5%E0%A4%BF%E0%A4%95%E0%A4%BF%E0%A4%AA%E0%A5%80%E0%A4%A1%E0%A4%BF%E0%A4%AF%E0%A4%BE:%E0%A4%B8%E0%A4%B0%E0%A5%8D%E0%A4%B5%E0%A4%B8%E0%A4%BE%E0%A4%A7%E0%A4%BE%E0%A4%B0%E0%A4%A3_%E0%A4%89%E0%A4%A4%E0%A5%8D%E0%A4%A4%E0%A4%B0%E0%A4%A6%E0%A4%BE%E0%A4%AF%E0%A4%95%E0%A4%A4%E0%A5%8D%E0%A4%B5%E0%A4%BE%E0%A4%B8_%E0%A4%A8%E0%A4%95%E0%A4%BE%E0%A4%B0',\n",
       " 'https://arz.wikipedia.org/wiki/%D9%88%D9%8A%D9%83%D9%8A%D8%A8%D9%8A%D8%AF%D9%8A%D8%A7:%D8%AA%D9%86%D8%A7%D8%B2%D9%84_%D8%B9%D9%86_%D9%85%D8%B3%D8%A6%D9%88%D9%84%D9%8A%D9%87_%D8%B9%D9%85%D9%88%D9%85%D9%89',\n",
       " 'https://mzn.wikipedia.org/wiki/%D9%BE%D8%B1%D9%88%DA%98%D9%87:%D8%AA%DA%A9%D8%B0%DB%8C%D8%A8%E2%80%8C%D9%86%D9%88%D9%85%D9%87%D9%94_%D9%87%D9%85%D9%87%E2%80%8C%DA%AF%D9%88%D9%86%DB%8C',\n",
       " 'https://ms.wikipedia.org/wiki/Wikipedia:Penafian_umum',\n",
       " 'https://cdo.wikipedia.org/wiki/Wikipedia:M%C3%B2%CC%A4_h%C3%B4-c%C3%A1ik_s%C4%ADng-m%C3%ACng',\n",
       " 'https://mwl.wikipedia.org/wiki/Biquip%C3%A9dia:Abiso_legal',\n",
       " 'https://mn.wikipedia.org/wiki/Wikipedia:%D0%95%D1%80%D3%A9%D0%BD%D1%85%D0%B8%D0%B9_%D1%82%D0%B0%D1%82%D0%B3%D0%B0%D0%BB%D0%B7%D0%B0%D0%BB',\n",
       " 'https://my.wikipedia.org/wiki/%E1%80%9D%E1%80%AE%E1%80%80%E1%80%AE%E1%80%95%E1%80%AE%E1%80%B8%E1%80%92%E1%80%AE%E1%80%B8%E1%80%9A%E1%80%AC%E1%80%B8:%E1%80%A1%E1%80%91%E1%80%BD%E1%80%B1%E1%80%91%E1%80%BD%E1%80%B1_%E1%80%9E%E1%80%90%E1%80%AD%E1%80%95%E1%80%BC%E1%80%AF%E1%80%96%E1%80%BD%E1%80%9A%E1%80%BA',\n",
       " 'https://nah.wikipedia.org/wiki/Huiquipedia:General_disclaimer',\n",
       " 'https://nl.wikipedia.org/wiki/Wikipedia:Algemeen_voorbehoud',\n",
       " 'https://nds-nl.wikipedia.org/wiki/Wikipedia:V%C3%B6%C3%A4rbehold',\n",
       " 'https://ne.wikipedia.org/wiki/%E0%A4%B5%E0%A4%BF%E0%A4%95%E0%A4%BF%E0%A4%AA%E0%A4%BF%E0%A4%A1%E0%A4%BF%E0%A4%AF%E0%A4%BE:%E0%A4%B8%E0%A4%BE%E0%A4%AE%E0%A4%BE%E0%A4%A8%E0%A5%8D%E0%A4%AF_%E0%A4%85%E0%A4%B8%E0%A5%8D%E0%A4%B5%E0%A5%80%E0%A4%95%E0%A4%BE%E0%A4%B0%E0%A5%8B%E0%A4%95%E0%A5%8D%E0%A4%A4%E0%A4%BF',\n",
       " 'https://ja.wikipedia.org/wiki/Wikipedia:%E5%85%8D%E8%B2%AC%E4%BA%8B%E9%A0%85',\n",
       " 'https://frr.wikipedia.org/wiki/Wikipedia:Impressum',\n",
       " 'https://no.wikipedia.org/wiki/Wikipedia:Generelle_forbehold',\n",
       " 'https://nn.wikipedia.org/wiki/Wikipedia:Atterhald',\n",
       " 'https://oc.wikipedia.org/wiki/Wikip%C3%A8dia:Avertiments_generals',\n",
       " 'https://or.wikipedia.org/wiki/%E0%AC%89%E0%AC%87%E0%AC%95%E0%AC%BF%E0%AC%AA%E0%AC%BF%E0%AC%A1%E0%AC%BC%E0%AC%BF%E0%AC%86:General_disclaimer',\n",
       " 'https://uz.wikipedia.org/wiki/Vikipediya:Mas%CA%BCuliyatdan_voz_kechish',\n",
       " 'https://pa.wikipedia.org/wiki/%E0%A8%B5%E0%A8%BF%E0%A8%95%E0%A9%80%E0%A8%AA%E0%A9%80%E0%A8%A1%E0%A9%80%E0%A8%86:%E0%A8%86%E0%A8%AE_%E0%A8%85%E0%A8%B8%E0%A8%B5%E0%A9%80%E0%A8%95%E0%A8%BE%E0%A8%B0%E0%A8%A4%E0%A8%BE',\n",
       " 'https://pfl.wikipedia.org/wiki/Wikipedia:Impressum',\n",
       " 'https://ps.wikipedia.org/wiki/%D9%88%D9%8A%DA%A9%D9%8A%D9%BE%DB%90%DA%89%D9%8A%D8%A7:General_disclaimer',\n",
       " 'https://km.wikipedia.org/wiki/%E1%9E%9C%E1%9E%B7%E1%9E%82%E1%9E%B8%E1%9E%97%E1%9E%B8%E1%9E%8C%E1%9E%B6:%E1%9E%80%E1%9E%B6%E1%9E%9A%E1%9E%94%E1%9E%8A%E1%9E%B7%E1%9E%9F%E1%9F%81%E1%9E%92_%E1%9E%91%E1%9E%BC%E1%9E%91%E1%9F%85',\n",
       " 'https://nds.wikipedia.org/wiki/Wikipedia:Impressum',\n",
       " 'https://pl.wikipedia.org/wiki/Wikipedia:Korzystasz_z_Wikipedii_tylko_na_w%C5%82asn%C4%85_odpowiedzialno%C5%9B%C4%87',\n",
       " 'https://pt.wikipedia.org/wiki/Wikip%C3%A9dia:Aviso_geral',\n",
       " 'https://ro.wikipedia.org/wiki/Wikipedia:Avertisment_general',\n",
       " 'https://qu.wikipedia.org/wiki/Wikipedia:General_disclaimer',\n",
       " 'https://ru.wikipedia.org/wiki/%D0%92%D0%B8%D0%BA%D0%B8%D0%BF%D0%B5%D0%B4%D0%B8%D1%8F:%D0%9E%D1%82%D0%BA%D0%B0%D0%B7_%D0%BE%D1%82_%D0%BE%D1%82%D0%B2%D0%B5%D1%82%D1%81%D1%82%D0%B2%D0%B5%D0%BD%D0%BD%D0%BE%D1%81%D1%82%D0%B8',\n",
       " 'https://sah.wikipedia.org/wiki/%D0%91%D0%B8%D0%BA%D0%B8%D0%BF%D0%B8%D1%8D%D0%B4%D1%8C%D0%B8%D0%B9%D1%8D:%D0%91%D2%AF%D0%BA_%D0%BE%D1%85%D1%81%D1%83%D0%BD%D1%83%D1%83',\n",
       " 'https://sm.wikipedia.org/wiki/Wikipedia:General_disclaimer',\n",
       " 'https://sa.wikipedia.org/wiki/%E0%A4%B5%E0%A4%BF%E0%A4%95%E0%A4%BF%E0%A4%AA%E0%A5%80%E0%A4%A1%E0%A4%BF%E0%A4%AF%E0%A4%BE:General_disclaimer',\n",
       " 'https://sc.wikipedia.org/wiki/Wikipedia:Abbertimentos_generales',\n",
       " 'https://sco.wikipedia.org/wiki/Wikipedia:General_disclamation',\n",
       " 'https://sq.wikipedia.org/wiki/Wikipedia:Shfaj%C3%ABsimet_e_p%C3%ABrgjithshme',\n",
       " 'https://si.wikipedia.org/wiki/%E0%B7%80%E0%B7%92%E0%B6%9A%E0%B7%92%E0%B6%B4%E0%B7%93%E0%B6%A9%E0%B7%92%E0%B6%BA%E0%B7%8F:General_disclaimer',\n",
       " 'https://simple.wikipedia.org/wiki/Wikipedia:General_disclaimer',\n",
       " 'https://sd.wikipedia.org/wiki/%D9%88%DA%AA%D9%8A%D9%BE%D9%8A%DA%8A%D9%8A%D8%A7:%D8%B9%D8%A7%D9%85_%D8%BA%D9%8A%D8%B1%D8%AC%D9%88%D8%A7%D8%A8%D8%AF%D8%A7%D8%B1%D9%8A%D9%86%D8%A7%D9%85%D9%88',\n",
       " 'https://sk.wikipedia.org/wiki/Wikip%C3%A9dia:Vyl%C3%BA%C4%8Denie_zodpovednosti',\n",
       " 'https://sl.wikipedia.org/wiki/Wikipedija:Splo%C5%A1no_zanikanje_odgovornosti',\n",
       " 'https://so.wikipedia.org/wiki/Wikipedia:Masuul_la%27aan_guud',\n",
       " 'https://ckb.wikipedia.org/wiki/%D9%88%DB%8C%DA%A9%DB%8C%D9%BE%DB%8C%D8%AF%DB%8C%D8%A7:%D8%A8%DB%95%D8%B1%D9%BE%D8%B1%D8%B3%D9%86%DB%95%D8%A8%D9%88%D9%88%D9%86',\n",
       " 'https://sr.wikipedia.org/wiki/%D0%92%D0%B8%D0%BA%D0%B8%D0%BF%D0%B5%D0%B4%D0%B8%D1%98%D0%B0:%D0%9E%D0%B4%D1%80%D0%B8%D1%86%D0%B0%D1%9A%D0%B5_%D0%BE%D0%B4%D0%B3%D0%BE%D0%B2%D0%BE%D1%80%D0%BD%D0%BE%D1%81%D1%82%D0%B8',\n",
       " 'https://sh.wikipedia.org/wiki/Wikipedia:Op%C4%87e_odricanje_od_odgovornosti',\n",
       " 'https://su.wikipedia.org/wiki/Wikipedia:Bantahan_umum',\n",
       " 'https://fi.wikipedia.org/wiki/Wikipedia:Vastuuvapaus',\n",
       " 'https://sv.wikipedia.org/wiki/Wikipedia:Allm%C3%A4nt_f%C3%B6rbeh%C3%A5ll',\n",
       " 'https://tl.wikipedia.org/wiki/Wikipedia:Pangkalahatang_pagtatanggi',\n",
       " 'https://ta.wikipedia.org/wiki/%E0%AE%B5%E0%AE%BF%E0%AE%95%E0%AF%8D%E0%AE%95%E0%AE%BF%E0%AE%AA%E0%AF%8D%E0%AE%AA%E0%AF%80%E0%AE%9F%E0%AE%BF%E0%AE%AF%E0%AE%BE:%E0%AE%AA%E0%AF%8A%E0%AE%A4%E0%AF%81%E0%AE%B5%E0%AE%BE%E0%AE%A9_%E0%AE%AA%E0%AF%8A%E0%AE%B1%E0%AF%81%E0%AE%AA%E0%AF%8D%E0%AE%AA%E0%AF%81%E0%AE%A4%E0%AF%8D_%E0%AE%A4%E0%AF%81%E0%AE%B1%E0%AE%AA%E0%AF%8D%E0%AE%AA%E0%AF%81%E0%AE%95%E0%AE%B3%E0%AF%8D',\n",
       " 'https://tt.wikipedia.org/wiki/%D0%92%D0%B8%D0%BA%D0%B8%D0%BF%D0%B5%D0%B4%D0%B8%D1%8F:%D2%96%D0%B0%D0%B2%D0%B0%D0%BF%D0%BB%D1%8B%D0%BB%D1%8B%D0%BA%D1%82%D0%B0%D0%BD_%D0%B1%D0%B0%D1%88_%D1%82%D0%B0%D1%80%D1%82%D1%83',\n",
       " 'https://te.wikipedia.org/wiki/%E0%B0%B5%E0%B0%BF%E0%B0%95%E0%B1%80%E0%B0%AA%E0%B1%80%E0%B0%A1%E0%B0%BF%E0%B0%AF%E0%B0%BE:%E0%B0%AE%E0%B0%AE%E0%B1%8D%E0%B0%AE%E0%B0%B2%E0%B1%8D%E0%B0%A8%E0%B0%BF_%E0%B0%95%E0%B0%B2%E0%B0%B5%E0%B0%82%E0%B0%A1%E0%B0%BF',\n",
       " 'https://th.wikipedia.org/wiki/%E0%B8%A7%E0%B8%B4%E0%B8%81%E0%B8%B4%E0%B8%9E%E0%B8%B5%E0%B9%80%E0%B8%94%E0%B8%B5%E0%B8%A2:%E0%B8%82%E0%B9%89%E0%B8%AD%E0%B8%9B%E0%B8%8F%E0%B8%B4%E0%B9%80%E0%B8%AA%E0%B8%98%E0%B8%84%E0%B8%A7%E0%B8%B2%E0%B8%A1%E0%B8%A3%E0%B8%B1%E0%B8%9A%E0%B8%9C%E0%B8%B4%E0%B8%94%E0%B8%8A%E0%B8%AD%E0%B8%9A',\n",
       " 'https://tg.wikipedia.org/wiki/%D0%92%D0%B8%D0%BA%D0%B8%D0%BF%D0%B5%D0%B4%D0%B8%D0%B0:%D0%A2%D0%B0%D0%BA%D0%B7%D0%B8%D0%B1%D0%BD%D0%BE%D0%BC%D0%B0%D0%B8_%D1%83%D0%BC%D1%83%D0%BC%D3%A3',\n",
       " 'https://tr.wikipedia.org/wiki/Vikipedi:Genel_sorumluluk_reddi',\n",
       " 'https://tk.wikipedia.org/wiki/Wikipedi%C3%BDa:General_disclaimer',\n",
       " 'https://udm.wikipedia.org/wiki/%D0%92%D0%B8%D0%BA%D0%B8%D0%BF%D0%B5%D0%B4%D0%B8%D1%8F:%D0%9A%D1%8B%D0%BB_%D0%BA%D1%83%D1%82%D1%8D%D0%BC%D0%BB%D1%8D%D1%81%D1%8C_%D0%BA%D1%83%D1%88%D1%82%D3%A5%D1%81%D1%8C%D0%BA%D0%BE%D0%BD',\n",
       " 'https://uk.wikipedia.org/wiki/%D0%92%D1%96%D0%BA%D1%96%D0%BF%D0%B5%D0%B4%D1%96%D1%8F:%D0%92%D1%96%D0%B4%D0%BC%D0%BE%D0%B2%D0%B0_%D0%B2%D1%96%D0%B4_%D0%B2%D1%96%D0%B4%D0%BF%D0%BE%D0%B2%D1%96%D0%B4%D0%B0%D0%BB%D1%8C%D0%BD%D0%BE%D1%81%D1%82%D1%96',\n",
       " 'https://ur.wikipedia.org/wiki/%D9%88%DB%8C%DA%A9%DB%8C%D9%BE%DB%8C%DA%88%DB%8C%D8%A7:%D8%B9%D9%85%D9%88%D9%85%DB%8C_%D8%A7%D8%B8%DB%81%D8%A7%D8%B1_%D9%84%D8%A7%D8%AA%D8%B9%D9%84%D9%82%DB%8C',\n",
       " 'https://ug.wikipedia.org/wiki/Wikipedia:General_disclaimer',\n",
       " 'https://vi.wikipedia.org/wiki/Wikipedia:Ph%E1%BB%A7_nh%E1%BA%ADn_chung',\n",
       " 'https://vo.wikipedia.org/wiki/V%C3%BCkiped:General_disclaimer',\n",
       " 'https://fiu-vro.wikipedia.org/wiki/Wikipedia:Hoiatuisi',\n",
       " 'https://vls.wikipedia.org/wiki/Wikipedia:Aansprakelekeid',\n",
       " 'https://war.wikipedia.org/wiki/Wikipedia:General_disclaimer',\n",
       " 'https://yi.wikipedia.org/wiki/%D7%B0%D7%99%D7%A7%D7%99%D7%A4%D6%BC%D7%A2%D7%93%D7%99%D7%A2:%D7%A7%D7%9C%D7%90%D7%A8%D7%A9%D7%98%D7%A2%D7%9C%D7%95%D7%A0%D7%92',\n",
       " 'https://zh-yue.wikipedia.org/wiki/Wikipedia:%E4%B8%80%E8%88%AC%E5%85%8D%E8%B2%AC%E8%81%B2%E6%98%8E',\n",
       " 'https://zh.wikipedia.org/wiki/Wikipedia:%E5%85%8D%E8%B4%A3%E5%A3%B0%E6%98%8E',\n",
       " 'https://www.wikidata.org/wiki/Special:EntityPage/Q4980478#sitelinks-wikipedia',\n",
       " 'https://en.wikipedia.org/wiki/Wikipedia:Text_of_Creative_Commons_Attribution-ShareAlike_3.0_Unported_License',\n",
       " 'https://creativecommons.org/licenses/by-sa/3.0/',\n",
       " 'https://foundation.wikimedia.org/wiki/Terms_of_Use',\n",
       " 'https://foundation.wikimedia.org/wiki/Privacy_policy',\n",
       " 'https://www.wikimediafoundation.org/',\n",
       " 'https://foundation.wikimedia.org/wiki/Privacy_policy',\n",
       " 'https://en.wikipedia.org/wiki/Wikipedia:About',\n",
       " 'https://en.wikipedia.org/wiki/Wikipedia:General_disclaimer',\n",
       " 'https://en.wikipedia.org/wiki/Wikipedia:Contact_us',\n",
       " 'https://en.m.wikipedia.org/w/index.php?title=Wikipedia:General_disclaimer&mobileaction=toggle_view_mobile',\n",
       " 'https://developer.wikimedia.org/',\n",
       " 'https://stats.wikimedia.org/#/en.wikipedia.org',\n",
       " 'https://foundation.wikimedia.org/wiki/Cookie_statement',\n",
       " 'https://en.wikipedia.org/wiki/Wikipedia:General_disclaimer#',\n",
       " 'https://wikimediafoundation.org/',\n",
       " 'https://www.mediawiki.org/']"
      ]
     },
     "execution_count": 226,
     "metadata": {},
     "output_type": "execute_result"
    }
   ],
   "source": [
    "wikirand = browser.find_elements(By.TAG_NAME,'a')\n",
    "\n",
    "finalink = [i.get_attribute('href') for i in wikirand]\n",
    "\n",
    "finalink"
   ]
  },
  {
   "cell_type": "markdown",
   "metadata": {},
   "source": [
    "#### Number of Titles that have changed in the United States Code since its last release point "
   ]
  },
  {
   "cell_type": "code",
   "execution_count": 64,
   "metadata": {},
   "outputs": [],
   "source": [
    "# This is the url you will scrape in this exercise\n",
    "url = 'http://uscode.house.gov/download/download.shtml'"
   ]
  },
  {
   "cell_type": "code",
   "execution_count": 65,
   "metadata": {},
   "outputs": [],
   "source": [
    "driver = webdriver.Chrome(PATH,options = opciones)\n",
    "driver.get(url)"
   ]
  },
  {
   "cell_type": "code",
   "execution_count": 66,
   "metadata": {},
   "outputs": [
    {
     "data": {
      "text/plain": [
       "9"
      ]
     },
     "execution_count": 66,
     "metadata": {},
     "output_type": "execute_result"
    }
   ],
   "source": [
    "usc = driver.find_elements(By.CLASS_NAME, 'usctitlechanged')\n",
    "usa = [i.text for i in usc]\n",
    "usa\n",
    "len(usa)"
   ]
  },
  {
   "cell_type": "markdown",
   "metadata": {},
   "source": [
    "#### A Python list with the top ten FBI's Most Wanted names "
   ]
  },
  {
   "cell_type": "code",
   "execution_count": 227,
   "metadata": {},
   "outputs": [],
   "source": [
    "# This is the url you will scrape in this exercise\n",
    "fbi = 'https://www.fbi.gov/wanted/topten'\n",
    "\n",
    "PATH = ChromeDriverManager().install()      \n",
    "browser = webdriver.Chrome(PATH)\n",
    "browser.get(fbi)"
   ]
  },
  {
   "cell_type": "code",
   "execution_count": 230,
   "metadata": {},
   "outputs": [
    {
     "data": {
      "text/plain": [
       "['OMAR ALEXANDER CARDENAS',\n",
       " 'ALEXIS FLORES',\n",
       " 'JOSE RODOLFO VILLARREAL-HERNANDEZ',\n",
       " 'YULAN ADONAY ARCHAGA CARIAS',\n",
       " 'BHADRESHKUMAR CHETANBHAI PATEL',\n",
       " 'ALEJANDRO ROSALES CASTILLO',\n",
       " 'MICHAEL JAMES PRATT',\n",
       " 'RUJA IGNATOVA',\n",
       " 'ARNOLDO JIMENEZ',\n",
       " 'RAFAEL CARO-QUINTERO']"
      ]
     },
     "execution_count": 230,
     "metadata": {},
     "output_type": "execute_result"
    }
   ],
   "source": [
    "wanted = browser.find_elements(By.CLASS_NAME, 'portal-type-person')\n",
    "mostwanted = [i.text for i in wanted]\n",
    "\n",
    "mostwanted"
   ]
  },
  {
   "cell_type": "markdown",
   "metadata": {},
   "source": [
    "####  20 latest earthquakes info (date, time, latitude, longitude and region name) by the EMSC as a pandas dataframe"
   ]
  },
  {
   "cell_type": "code",
   "execution_count": 231,
   "metadata": {},
   "outputs": [],
   "source": [
    "# This is the url you will scrape in this exercise\n",
    "earthquake = 'https://www.emsc-csem.org/Earthquake/'\n",
    "\n",
    "PATH = ChromeDriverManager().install()      \n",
    "browser = webdriver.Chrome(PATH)\n",
    "browser.get(earthquake)"
   ]
  },
  {
   "cell_type": "code",
   "execution_count": 240,
   "metadata": {},
   "outputs": [
    {
     "data": {
      "text/plain": [
       "['2022-11-09   21:51:19.5\\n11min ago\\n34.94  N   97.63  W   2 3.0  OKLAHOMA',\n",
       " '1\\nF\\n2022-11-09   21:33:43.0\\n29min ago\\n18.17  S   69.75  W   116 3.8  TARAPACA, CHILE',\n",
       " '2022-11-09   21:28:37.6\\n34min ago\\n43.94  N   13.35  E   9 2.1  CENTRAL ITALY',\n",
       " '2022-11-09   21:26:30.6\\n36min ago\\n44.79  N   7.62  E   20 2.8  NORTHERN ITALY',\n",
       " '16\\nIII\\n2022-11-09   21:26:08.7\\n37min ago\\n37.88  N   26.97  E   2 3.5  DODECANESE ISLANDS, GREECE',\n",
       " '2022-11-09   21:08:14.0\\n54min ago\\n33.45  S   71.12  W   72 2.8  REGION METROPOLITANA, CHILE',\n",
       " '2022-11-09   21:07:11.5\\n56min ago\\n43.96  N   13.33  E   9 2.3  CENTRAL ITALY',\n",
       " '2022-11-09   20:59:16.0\\n1hr 03min ago\\n7.44  N   94.53  E   10 4.5  NICOBAR ISLANDS, INDIA REGION',\n",
       " '2022-11-09   20:50:48.0\\n1hr 12min ago\\n38.70  N   26.46  E   10 2.4  NEAR THE COAST OF WESTERN TURKEY',\n",
       " '2022-11-09   20:47:41.6\\n1hr 15min ago\\n17.96  N   66.96  W   7 2.1  PUERTO RICO',\n",
       " '2022-11-09   20:44:10.6\\n1hr 19min ago\\n19.39  N   155.25  W   0 2.1  ISLAND OF HAWAII, HAWAII',\n",
       " '2022-11-09   20:40:32.0\\n1hr 22min ago\\n3.11  S   128.78  E   14 2.6  SERAM, INDONESIA',\n",
       " '2022-11-09   20:38:02.4\\n1hr 25min ago\\n33.80  N   116.09  W   4 2.4  SOUTHERN CALIFORNIA',\n",
       " '2022-11-09   20:32:18.0\\n1hr 30min ago\\n17.96  N   66.96  W   7 2.5  PUERTO RICO',\n",
       " '2022-11-09   20:26:20.4\\n1hr 36min ago\\n37.01  N   119.81  W   0 2.1  CENTRAL CALIFORNIA',\n",
       " '2022-11-09   20:26:00.5\\n1hr 37min ago\\n43.96  N   13.32  E   10 2.4  CENTRAL ITALY',\n",
       " '1\\nF\\n2022-11-09   20:24:15.2\\n1hr 38min ago\\n43.86  N   13.35  E   5 3.0  CENTRAL ITALY',\n",
       " '2022-11-09   20:04:11.5\\n1hr 59min ago\\n18.02  N   66.76  W   15 2.4  PUERTO RICO',\n",
       " '2022-11-09   19:59:37.9\\n2hr 03min ago\\n19.15  N   155.50  W   33 2.3  ISLAND OF HAWAII, HAWAII',\n",
       " '2022-11-09   19:53:09.0\\n2hr 10min ago\\n45.17  S   166.60  E   5 3.1  OFF W. COAST OF S. ISLAND, N.Z.']"
      ]
     },
     "execution_count": 240,
     "metadata": {},
     "output_type": "execute_result"
    }
   ],
   "source": [
    "quake = browser.find_elements(By.CLASS_NAME, 'normal')\n",
    "equake = [i.text for i in quake]\n",
    "\n",
    "equake[0:20]"
   ]
  },
  {
   "cell_type": "markdown",
   "metadata": {},
   "source": [
    "#### Count number of tweets by a given Twitter account."
   ]
  },
  {
   "cell_type": "markdown",
   "metadata": {},
   "source": [
    "You will need to include a ***try/except block*** for account names not found. \n",
    "<br>***Hint:*** the program should count the number of tweets for any provided account"
   ]
  },
  {
   "cell_type": "code",
   "execution_count": 254,
   "metadata": {},
   "outputs": [],
   "source": [
    "tw = 'https://twitter.com/marcosfrnz'\n",
    "\n",
    "PATH = ChromeDriverManager().install()      \n",
    "browser = webdriver.Chrome(PATH)\n",
    "browser.get(tw)"
   ]
  },
  {
   "cell_type": "code",
   "execution_count": 256,
   "metadata": {},
   "outputs": [
    {
     "name": "stdout",
     "output_type": "stream",
     "text": [
      "9\n"
     ]
    }
   ],
   "source": [
    "\n",
    "\n",
    "try:\n",
    "    tweet = browser.find_elements(By.TAG_NAME, 'article')\n",
    "    twitter = [i.text for i in tweet]\n",
    "\n",
    "    print(len(twitter))\n",
    "\n",
    "except:\n",
    "    print(\"Esta cuenta de usuario no existe/no tiene tweets\")"
   ]
  },
  {
   "cell_type": "markdown",
   "metadata": {},
   "source": [
    "#### Number of followers of a given twitter account"
   ]
  },
  {
   "cell_type": "markdown",
   "metadata": {},
   "source": [
    "You will need to include a ***try/except block*** in case account/s name not found. \n",
    "<br>***Hint:*** the program should count the followers for any provided account"
   ]
  },
  {
   "cell_type": "code",
   "execution_count": 257,
   "metadata": {},
   "outputs": [],
   "source": [
    "tw = 'https://twitter.com/marcosfrnz'\n",
    "\n",
    "PATH = ChromeDriverManager().install()      \n",
    "browser = webdriver.Chrome(PATH)\n",
    "browser.get(tw)"
   ]
  },
  {
   "cell_type": "code",
   "execution_count": 261,
   "metadata": {},
   "outputs": [
    {
     "ename": "AttributeError",
     "evalue": "'WebDriver' object has no attribute 'find_element_by_xpath'",
     "output_type": "error",
     "traceback": [
      "\u001b[1;31m---------------------------------------------------------------------------\u001b[0m",
      "\u001b[1;31mAttributeError\u001b[0m                            Traceback (most recent call last)",
      "Input \u001b[1;32mIn [261]\u001b[0m, in \u001b[0;36m<cell line: 1>\u001b[1;34m()\u001b[0m\n\u001b[1;32m----> 1\u001b[0m tweet \u001b[38;5;241m=\u001b[39m \u001b[43mbrowser\u001b[49m\u001b[38;5;241;43m.\u001b[39;49m\u001b[43mfind_element_by_xpath\u001b[49m(\u001b[38;5;124m'\u001b[39m\u001b[38;5;124m//*[@id=\u001b[39m\u001b[38;5;124m\"\u001b[39m\u001b[38;5;124mreact-root\u001b[39m\u001b[38;5;124m\"\u001b[39m\u001b[38;5;124m]/div/div/div[2]/main/div/div/div/div[1]/div/div[2]/div/div/div/div/div[5]/div[2]/a/span[1]/span\u001b[39m\u001b[38;5;124m'\u001b[39m)\u001b[38;5;241m.\u001b[39mtext\n\u001b[0;32m      2\u001b[0m tweet\n",
      "\u001b[1;31mAttributeError\u001b[0m: 'WebDriver' object has no attribute 'find_element_by_xpath'"
     ]
    }
   ],
   "source": [
    "\n",
    "tweet = browser.find_element_by_xpath('//*[@id=\"react-root\"]/div/div/div[2]/main/div/div/div/div[1]/div/div[2]/div/div/div/div/div[5]/div[2]/a/span[1]/span').text\n",
    "twitter = [i.text for i in tweet]\n",
    "\n",
    "print(len(twitter))\n",
    "\n",
    "\n",
    "print(\"Esta cuenta de usuario no existe/no tiene tweets\")\n",
    "\n",
    "\n"
   ]
  },
  {
   "cell_type": "markdown",
   "metadata": {},
   "source": [
    "#### List all language names and number of related articles in the order they appear in wikipedia.org"
   ]
  },
  {
   "cell_type": "code",
   "execution_count": null,
   "metadata": {},
   "outputs": [],
   "source": [
    "# This is the url you will scrape in this exercise\n",
    "url = 'https://www.wikipedia.org/'"
   ]
  },
  {
   "cell_type": "code",
   "execution_count": null,
   "metadata": {},
   "outputs": [],
   "source": [
    "#your code"
   ]
  },
  {
   "cell_type": "markdown",
   "metadata": {},
   "source": [
    "#### A list with the different kind of datasets available in data.gov.uk "
   ]
  },
  {
   "cell_type": "code",
   "execution_count": null,
   "metadata": {},
   "outputs": [],
   "source": [
    "# This is the url you will scrape in this exercise\n",
    "url = 'https://data.gov.uk/'"
   ]
  },
  {
   "cell_type": "code",
   "execution_count": null,
   "metadata": {},
   "outputs": [],
   "source": [
    "#your code "
   ]
  },
  {
   "cell_type": "markdown",
   "metadata": {},
   "source": [
    "#### Top 10 languages by number of native speakers stored in a Pandas Dataframe"
   ]
  },
  {
   "cell_type": "code",
   "execution_count": null,
   "metadata": {},
   "outputs": [],
   "source": [
    "# This is the url you will scrape in this exercise\n",
    "url = 'https://en.wikipedia.org/wiki/List_of_languages_by_number_of_native_speakers'"
   ]
  },
  {
   "cell_type": "code",
   "execution_count": null,
   "metadata": {},
   "outputs": [],
   "source": [
    "#your code"
   ]
  },
  {
   "cell_type": "markdown",
   "metadata": {},
   "source": [
    "### BONUS QUESTIONS"
   ]
  },
  {
   "cell_type": "markdown",
   "metadata": {},
   "source": [
    "#### Scrape a certain number of tweets of a given Twitter account."
   ]
  },
  {
   "cell_type": "code",
   "execution_count": null,
   "metadata": {},
   "outputs": [],
   "source": [
    "# This is the url you will scrape in this exercise \n",
    "# You will need to add the account credentials to this url\n",
    "url = 'https://twitter.com/'"
   ]
  },
  {
   "cell_type": "code",
   "execution_count": null,
   "metadata": {},
   "outputs": [],
   "source": [
    "# your code"
   ]
  },
  {
   "cell_type": "markdown",
   "metadata": {},
   "source": [
    "#### IMDB's Top 250 data (movie name, Initial release, director name and stars) as a pandas dataframe"
   ]
  },
  {
   "cell_type": "code",
   "execution_count": null,
   "metadata": {},
   "outputs": [],
   "source": [
    "# This is the url you will scrape in this exercise \n",
    "url = 'https://www.imdb.com/chart/top'"
   ]
  },
  {
   "cell_type": "code",
   "execution_count": null,
   "metadata": {},
   "outputs": [],
   "source": [
    "# your code"
   ]
  },
  {
   "cell_type": "markdown",
   "metadata": {},
   "source": [
    "#### Movie name, year and a brief summary of the top 10 random movies (IMDB) as a pandas dataframe."
   ]
  },
  {
   "cell_type": "code",
   "execution_count": null,
   "metadata": {},
   "outputs": [],
   "source": [
    "#This is the url you will scrape in this exercise\n",
    "url = 'http://www.imdb.com/chart/top'"
   ]
  },
  {
   "cell_type": "code",
   "execution_count": null,
   "metadata": {},
   "outputs": [],
   "source": [
    "#your code"
   ]
  },
  {
   "cell_type": "markdown",
   "metadata": {},
   "source": [
    "#### Find the live weather report (temperature, wind speed, description and weather) of a given city."
   ]
  },
  {
   "cell_type": "code",
   "execution_count": null,
   "metadata": {},
   "outputs": [],
   "source": [
    "#https://openweathermap.org/current\n",
    "city = city=input('Enter the city:')\n",
    "url = 'http://api.openweathermap.org/data/2.5/weather?'+'q='+city+'&APPID=b35975e18dc93725acb092f7272cc6b8&units=metric'"
   ]
  },
  {
   "cell_type": "code",
   "execution_count": null,
   "metadata": {},
   "outputs": [],
   "source": [
    "# your code"
   ]
  },
  {
   "cell_type": "markdown",
   "metadata": {},
   "source": [
    "#### Book name,price and stock availability as a pandas dataframe."
   ]
  },
  {
   "cell_type": "code",
   "execution_count": null,
   "metadata": {},
   "outputs": [],
   "source": [
    "# This is the url you will scrape in this exercise. \n",
    "# It is a fictional bookstore created to be scraped. \n",
    "url = 'http://books.toscrape.com/'"
   ]
  },
  {
   "cell_type": "code",
   "execution_count": null,
   "metadata": {},
   "outputs": [],
   "source": [
    "#your code"
   ]
  }
 ],
 "metadata": {
  "kernelspec": {
   "display_name": "Python 3 (ipykernel)",
   "language": "python",
   "name": "python3"
  },
  "language_info": {
   "codemirror_mode": {
    "name": "ipython",
    "version": 3
   },
   "file_extension": ".py",
   "mimetype": "text/x-python",
   "name": "python",
   "nbconvert_exporter": "python",
   "pygments_lexer": "ipython3",
   "version": "3.9.12"
  }
 },
 "nbformat": 4,
 "nbformat_minor": 2
}
